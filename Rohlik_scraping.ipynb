{
 "cells": [
  {
   "cell_type": "code",
   "execution_count": 2,
   "metadata": {},
   "outputs": [],
   "source": [
    "import pandas as pd\n",
    "import numpy as np\n",
    "import requests\n",
    "from lxml import html\n",
    "import xml.etree.ElementTree as et\n",
    "from decimal import Decimal"
   ]
  },
  {
   "cell_type": "code",
   "execution_count": null,
   "metadata": {},
   "outputs": [],
   "source": [
    "# ------------------ GET PRODUCT URLs\n",
    "# define url - site map of all the products\n",
    "url = 'https://www.rohlik.cz/sitemap.xml'\n",
    "\n",
    "# create http response object\n",
    "resp = requests.get(url)\n",
    "\n",
    "# parse xml\n",
    "tree = et.fromstring(resp.content)\n",
    "child = tree.getchildren()\n",
    "\n",
    "# extract product URLs\n",
    "products = [i[0].text for i in child]\n",
    "\n",
    "# convert to panda series (it supports regex)\n",
    "products = pd.Series(products)\n",
    "\n",
    "# use regex to extract URLs that contain products with their prices - defined as 7 numbers and text, divided by '-'\n",
    "products = products[products.str.contains('https://www.rohlik.cz/[0-9]{1,8}-*')]"
   ]
  },
  {
   "cell_type": "code",
   "execution_count": null,
   "metadata": {},
   "outputs": [],
   "source": [
    "products[:10]"
   ]
  },
  {
   "cell_type": "code",
   "execution_count": 1,
   "metadata": {},
   "outputs": [
    {
     "ename": "NameError",
     "evalue": "name 'products' is not defined",
     "output_type": "error",
     "traceback": [
      "\u001b[1;31m---------------------------------------------------------------------------\u001b[0m",
      "\u001b[1;31mNameError\u001b[0m                                 Traceback (most recent call last)",
      "\u001b[1;32m<ipython-input-1-314a61bb697d>\u001b[0m in \u001b[0;36m<module>\u001b[1;34m()\u001b[0m\n\u001b[0;32m      1\u001b[0m \u001b[1;31m# ------------------ TRY THE SCRIPT FOR SCRAPING PRICES ON 1 PRODUCT:\u001b[0m\u001b[1;33m\u001b[0m\u001b[1;33m\u001b[0m\u001b[0m\n\u001b[1;32m----> 2\u001b[1;33m \u001b[0mprod_1\u001b[0m \u001b[1;33m=\u001b[0m \u001b[0mproducts\u001b[0m\u001b[1;33m[\u001b[0m\u001b[1;36m1\u001b[0m\u001b[1;33m]\u001b[0m\u001b[1;33m\u001b[0m\u001b[0m\n\u001b[0m\u001b[0;32m      3\u001b[0m \u001b[0mpageContent\u001b[0m \u001b[1;33m=\u001b[0m \u001b[0mrequests\u001b[0m\u001b[1;33m.\u001b[0m\u001b[0mget\u001b[0m\u001b[1;33m(\u001b[0m\u001b[0mprod_1\u001b[0m\u001b[1;33m)\u001b[0m\u001b[1;33m.\u001b[0m\u001b[0mcontent\u001b[0m\u001b[1;33m\u001b[0m\u001b[0m\n\u001b[0;32m      4\u001b[0m \u001b[0mtree\u001b[0m \u001b[1;33m=\u001b[0m \u001b[0mhtml\u001b[0m\u001b[1;33m.\u001b[0m\u001b[0mfromstring\u001b[0m\u001b[1;33m(\u001b[0m\u001b[0mpageContent\u001b[0m\u001b[1;33m)\u001b[0m\u001b[1;33m\u001b[0m\u001b[0m\n\u001b[0;32m      5\u001b[0m \u001b[1;33m\u001b[0m\u001b[0m\n",
      "\u001b[1;31mNameError\u001b[0m: name 'products' is not defined"
     ]
    }
   ],
   "source": [
    "# ------------------ TRY THE SCRIPT FOR SCRAPING PRICES ON 1 PRODUCT:\n",
    "prod_1 = products[160]\n",
    "pageContent = requests.get(prod_1).content\n",
    "tree = html.fromstring(pageContent)\n",
    "\n",
    "prod_name = tree.xpath('//*[@class=\"redirect_link disabled\"]//text()')\n",
    "\n",
    "nopromo = tree.xpath('//*[@class=\"currentPrice\"]//text()')\n",
    "\n",
    "if(len(nopromo) == 0):\n",
    "  nopromo = tree.xpath('//*//del/text()')\n",
    "\n",
    "if(len(nopromo) == 2 and ('cca' in nopromo[0])):\n",
    "  nopromo = nopromo[1]\n",
    "\n",
    "if((isinstance(nopromo, (list,)) and len(nopromo) > 1) or (len(nopromo) == 0)):\n",
    "    nopromo = np.nan\n",
    "\n",
    "promo = tree.xpath('//*[@class=\"actionPrice\"]//text()')\n",
    "\n",
    "if(len(promo) == 0):\n",
    "    promo = np.nan \n",
    "\n",
    "prod_quantity = tree.xpath('//*[@class=\"detailQuantity\"]//text()')\n",
    "if(len(prod_quantity) == 0):\n",
    "    prod_quantity = np.nan \n",
    "\n",
    "prod_category = tree.xpath('//*[contains(@class, \"redirect_link\") and contains(@href, \"/c\")]//text()')\n",
    "prod_cat = '-'.join(prod_category)\n",
    "\n",
    "# create dictionary from scraped data: \n",
    "data = {'Product name': prod_name,\n",
    "'Regular price': nopromo,\n",
    "'Promo price': promo, \n",
    "'Quantity': prod_quantity, \n",
    "'Category': prod_cat}\n",
    "\n",
    "# if df does not exist, create it: \n",
    "df = pd.DataFrame(data)\n",
    "# else append the data to the existing data frame:\n",
    "#df = df.append(pd.DataFrame(data))"
   ]
  },
  {
   "cell_type": "code",
   "execution_count": null,
   "metadata": {},
   "outputs": [],
   "source": [
    "# ----------- FOR LOOP \n",
    "df = pd.DataFrame()\n",
    "\n",
    "for x in products[50:70]:\n",
    "  pageContent = requests.get(x).content\n",
    "  tree = html.fromstring(pageContent)\n",
    "  prod_name = tree.xpath('//*[@class=\"redirect_link disabled\"]//text()')\n",
    "\n",
    "  nopromo = tree.xpath('//*[@class=\"currentPrice\"]//text()')\n",
    "\n",
    "  if(len(nopromo) == 0):\n",
    "    nopromo = tree.xpath('//*[@class=\"actionPrice\"]/del//text()')\n",
    "\n",
    "  if(len(nopromo) == 2 and ('cca' in nopromo[0])):\n",
    "    nopromo = nopromo[1]\n",
    "\n",
    "  promo = tree.xpath('//*[@class=\"actionPrice\"]//text()')\n",
    "\n",
    "  if(len(promo) == 0):\n",
    "    promo = np.nan # print(Decimal('nan')) - this prints NaN directly into console\n",
    "  \n",
    "  if(len(nopromo) == 0):\n",
    "    nopromo = np.nan\n",
    "\n",
    "  prod_quantity = tree.xpath('//*[@class=\"detailQuantity\"]//text()')\n",
    "  if(len(prod_quantity) == 0):\n",
    "    prod_quantity = np.nan # print(Decimal('nan')) - this prints NaN directly into console\n",
    "\n",
    "  prod_category = tree.xpath('//*[@class=\"sc-1ywzolw-1 jQxyMp\"]//text()')\n",
    "  prod_cat = '-'.join(prod_category)\n",
    "\n",
    "  data = {'Product name': prod_name,\n",
    "          'Regular price': nopromo, \n",
    "          'Promo price': promo,\n",
    "          'Quantity': prod_quantity, \n",
    "          'Category': prod_cat}\n",
    "  df = df.append(pd.DataFrame(data))"
   ]
  }
 ],
 "metadata": {
  "kernelspec": {
   "display_name": "Python 3",
   "language": "python",
   "name": "python3"
  },
  "language_info": {
   "codemirror_mode": {
    "name": "ipython",
    "version": 3
   },
   "file_extension": ".py",
   "mimetype": "text/x-python",
   "name": "python",
   "nbconvert_exporter": "python",
   "pygments_lexer": "ipython3",
   "version": "3.7.1"
  }
 },
 "nbformat": 4,
 "nbformat_minor": 2
}
