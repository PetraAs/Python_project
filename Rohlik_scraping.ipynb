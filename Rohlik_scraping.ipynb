{
 "cells": [
  {
   "cell_type": "code",
   "execution_count": 1,
   "metadata": {},
   "outputs": [],
   "source": [
    "import pandas as pd\n",
    "import numpy as np\n",
    "import requests\n",
    "from lxml import html\n",
    "import xml.etree.ElementTree as et\n",
    "from decimal import Decimal\n",
    "from ratelimit import limits, sleep_and_retry\n",
    "import matplotlib.pyplot as plt"
   ]
  },
  {
   "cell_type": "markdown",
   "metadata": {},
   "source": [
    "# Part I. - Scraping Rohlik website #"
   ]
  },
  {
   "cell_type": "code",
   "execution_count": 2,
   "metadata": {},
   "outputs": [
    {
     "name": "stderr",
     "output_type": "stream",
     "text": [
      "C:\\Users\\petra\\Anaconda3\\lib\\site-packages\\ipykernel_launcher.py:10: DeprecationWarning: This method will be removed in future versions.  Use 'list(elem)' or iteration over elem instead.\n",
      "  # Remove the CWD from sys.path while we load stuff.\n"
     ]
    }
   ],
   "source": [
    "# ------------------ GET PRODUCT URLs\n",
    "# define url - site map of all the products\n",
    "url = 'https://www.rohlik.cz/sitemap.xml'\n",
    "\n",
    "# create http response object\n",
    "resp = requests.get(url)\n",
    "\n",
    "# parse xml\n",
    "tree = et.fromstring(resp.content)\n",
    "child = tree.getchildren()\n",
    "\n",
    "# extract product URLs\n",
    "products = [i[0].text for i in child]\n",
    "\n",
    "# convert to panda series (it supports regex)\n",
    "products = pd.Series(products)\n",
    "\n",
    "# use regex to extract URLs that contain products with their prices - defined as 7 numbers and text, divided by '-'\n",
    "products = products[products.str.contains('https://www.rohlik.cz/[0-9]{1,8}-*')]"
   ]
  },
  {
   "cell_type": "code",
   "execution_count": 3,
   "metadata": {},
   "outputs": [
    {
     "data": {
      "text/plain": [
       "0    https://www.rohlik.cz/1296727-nivea-men-silver...\n",
       "1    https://www.rohlik.cz/1296729-nivea-for-men-in...\n",
       "2    https://www.rohlik.cz/1296749-nivea-intimo-sen...\n",
       "3    https://www.rohlik.cz/1296751-nivea-creme-care...\n",
       "4    https://www.rohlik.cz/1296953-odol-stoma-parad...\n",
       "5    https://www.rohlik.cz/1296965-racio-chlebicky-...\n",
       "6    https://www.rohlik.cz/1296977-nescafe-dolce-gu...\n",
       "7    https://www.rohlik.cz/1297003-alpro-kokosovy-n...\n",
       "8    https://www.rohlik.cz/1297005-alpro-sojovy-nap...\n",
       "9    https://www.rohlik.cz/1297007-wasa-delikatess-...\n",
       "dtype: object"
      ]
     },
     "execution_count": 3,
     "metadata": {},
     "output_type": "execute_result"
    }
   ],
   "source": [
    "products[:10]"
   ]
  },
  {
   "cell_type": "code",
   "execution_count": 4,
   "metadata": {},
   "outputs": [],
   "source": [
    "# ------------------ TRY THE SCRIPT FOR SCRAPING PRICES ON 1 PRODUCT:\n",
    "prod_1 = products[160]\n",
    "pageContent = requests.get(prod_1).content\n",
    "tree = html.fromstring(pageContent)\n",
    "\n",
    "prod_name = tree.xpath('//*[@class=\"redirect_link disabled\"]//text()')\n",
    "\n",
    "nopromo = tree.xpath('//*[@class=\"currentPrice\"]//text()')\n",
    "\n",
    "if(len(nopromo) == 0):\n",
    "  nopromo = tree.xpath('//*//del/text()')\n",
    "\n",
    "if(len(nopromo) == 2 and ('cca' in nopromo[0])):\n",
    "  nopromo = nopromo[1]\n",
    "\n",
    "if((isinstance(nopromo, (list,)) and len(nopromo) > 1) or (len(nopromo) == 0)):\n",
    "    nopromo = np.nan\n",
    "\n",
    "promo = tree.xpath('//*[@class=\"actionPrice\"]//text()')\n",
    "\n",
    "if(len(promo) == 0):\n",
    "    promo = np.nan \n",
    "\n",
    "prod_quantity = tree.xpath('//*[@class=\"detailQuantity\"]//text()')\n",
    "if(len(prod_quantity) == 0):\n",
    "    prod_quantity = np.nan \n",
    "\n",
    "prod_category = tree.xpath('//*[contains(@class, \"redirect_link\") and contains(@href, \"/c\")]//text()')\n",
    "prod_cat = '-'.join(prod_category)\n",
    "\n",
    "# create dictionary from scraped data: \n",
    "data = {'Product name': prod_name,\n",
    "'Regular price': nopromo,\n",
    "'Promo price': promo, \n",
    "'Quantity': prod_quantity, \n",
    "'Category': prod_cat}\n",
    "\n",
    "# if df does not exist, create it: \n",
    "df = pd.DataFrame(data)\n",
    "# else append the data to the existing data frame:\n",
    "#df = df.append(pd.DataFrame(data))"
   ]
  },
  {
   "cell_type": "code",
   "execution_count": 5,
   "metadata": {},
   "outputs": [
    {
     "data": {
      "text/html": [
       "<div>\n",
       "<style scoped>\n",
       "    .dataframe tbody tr th:only-of-type {\n",
       "        vertical-align: middle;\n",
       "    }\n",
       "\n",
       "    .dataframe tbody tr th {\n",
       "        vertical-align: top;\n",
       "    }\n",
       "\n",
       "    .dataframe thead th {\n",
       "        text-align: right;\n",
       "    }\n",
       "</style>\n",
       "<table border=\"1\" class=\"dataframe\">\n",
       "  <thead>\n",
       "    <tr style=\"text-align: right;\">\n",
       "      <th></th>\n",
       "      <th>Product name</th>\n",
       "      <th>Regular price</th>\n",
       "      <th>Promo price</th>\n",
       "      <th>Quantity</th>\n",
       "      <th>Category</th>\n",
       "    </tr>\n",
       "  </thead>\n",
       "  <tbody>\n",
       "    <tr>\n",
       "      <th>0</th>\n",
       "      <td>HiPP Bio Boloňské lasagne</td>\n",
       "      <td>69,90 Kč</td>\n",
       "      <td>59,90 Kč</td>\n",
       "      <td>250 g</td>\n",
       "      <td>Příkrmy-Masové</td>\n",
       "    </tr>\n",
       "  </tbody>\n",
       "</table>\n",
       "</div>"
      ],
      "text/plain": [
       "                Product name Regular price Promo price Quantity  \\\n",
       "0  HiPP Bio Boloňské lasagne      69,90 Kč   59,90 Kč     250 g   \n",
       "\n",
       "         Category  \n",
       "0  Příkrmy-Masové  "
      ]
     },
     "execution_count": 5,
     "metadata": {},
     "output_type": "execute_result"
    }
   ],
   "source": [
    "df"
   ]
  },
  {
   "cell_type": "code",
   "execution_count": null,
   "metadata": {},
   "outputs": [],
   "source": [
    "# ----------- FOR LOOP \n",
    "df = pd.DataFrame()\n",
    "\n",
    "for x in products[50:70]:\n",
    "  pageContent = requests.get(x).content\n",
    "  tree = html.fromstring(pageContent)\n",
    "  prod_name = tree.xpath('//*[@class=\"redirect_link disabled\"]//text()')\n",
    "\n",
    "  nopromo = tree.xpath('//*[@class=\"currentPrice\"]//text()')\n",
    "\n",
    "  if(len(nopromo) == 0):\n",
    "    nopromo = tree.xpath('//*[@class=\"actionPrice\"]/del//text()')\n",
    "\n",
    "  if(len(nopromo) == 2 and ('cca' in nopromo[0])):\n",
    "    nopromo = nopromo[1]\n",
    "\n",
    "  promo = tree.xpath('//*[@class=\"actionPrice\"]//text()')\n",
    "\n",
    "  if(len(promo) == 0):\n",
    "    promo = np.nan \n",
    "  \n",
    "  if(len(nopromo) == 0):\n",
    "    nopromo = np.nan\n",
    "\n",
    "  prod_quantity = tree.xpath('//*[@class=\"detailQuantity\"]//text()')\n",
    "  if(len(prod_quantity) == 0):\n",
    "    prod_quantity = np.nan\n",
    "\n",
    "  prod_category = tree.xpath('//*[@class=\"sc-1ywzolw-1 jQxyMp\"]//text()')\n",
    "  prod_cat = '-'.join(prod_category)\n",
    "\n",
    "  data = {'Product name': prod_name,\n",
    "          'Regular price': nopromo, \n",
    "          'Promo price': promo,\n",
    "          'Quantity': prod_quantity, \n",
    "          'Category': prod_cat}\n",
    "  df = df.append(pd.DataFrame(data))"
   ]
  },
  {
   "cell_type": "code",
   "execution_count": 15,
   "metadata": {},
   "outputs": [],
   "source": [
    "# ----------- DEFINE A FUNCTION TO EXTRACT DATA\n",
    "@limits(calls = 10, period = 60) # set limit on scraping: 10 products per minute ~ 25.5 hours of scraping\n",
    "@sleep_and_retry \n",
    "def extract_rohlik(x):\n",
    "    pageContent = requests.get(x).content\n",
    "    tree = html.fromstring(pageContent)\n",
    "    prod_name = tree.xpath('//*[@class=\"redirect_link disabled\"]//text()')\n",
    "\n",
    "    nopromo = tree.xpath('//*[@class=\"currentPrice\"]//text()')\n",
    "\n",
    "    if(len(nopromo) == 0):\n",
    "      nopromo = tree.xpath('//*//del/text()')\n",
    "\n",
    "    if(len(nopromo) == 2 and ('cca' in nopromo[0])):\n",
    "      nopromo = nopromo[1]\n",
    "    \n",
    "    if((isinstance(nopromo, (list,)) and len(nopromo) > 1) or (len(nopromo) == 0)):\n",
    "      nopromo = np.nan\n",
    "\n",
    "    promo = tree.xpath('//*[@class=\"actionPrice\"]//text()')\n",
    "\n",
    "    if(len(promo) == 0):\n",
    "      promo = np.nan \n",
    "\n",
    "    prod_quantity = tree.xpath('//*[@class=\"detailQuantity\"]//text()')\n",
    "    if(len(prod_quantity) == 0):\n",
    "      prod_quantity = np.nan \n",
    "\n",
    "    prod_category = tree.xpath('//*[contains(@class, \"redirect_link\") and contains(@href, \"/c\")]//text()')\n",
    "    prod_cat = '-'.join(prod_category)\n",
    "\n",
    "    data = {'Product name': prod_name,\n",
    "            'Regular price': nopromo, \n",
    "            'Promo price': promo,\n",
    "            'Quantity': prod_quantity, \n",
    "            'Category': prod_cat, \n",
    "            'URL': x}\n",
    "    return(pd.DataFrame(data))"
   ]
  },
  {
   "cell_type": "code",
   "execution_count": 17,
   "metadata": {
    "scrolled": false
   },
   "outputs": [
    {
     "data": {
      "text/html": [
       "<div>\n",
       "<style scoped>\n",
       "    .dataframe tbody tr th:only-of-type {\n",
       "        vertical-align: middle;\n",
       "    }\n",
       "\n",
       "    .dataframe tbody tr th {\n",
       "        vertical-align: top;\n",
       "    }\n",
       "\n",
       "    .dataframe thead th {\n",
       "        text-align: right;\n",
       "    }\n",
       "</style>\n",
       "<table border=\"1\" class=\"dataframe\">\n",
       "  <thead>\n",
       "    <tr style=\"text-align: right;\">\n",
       "      <th></th>\n",
       "      <th>Product name</th>\n",
       "      <th>Regular price</th>\n",
       "      <th>Promo price</th>\n",
       "      <th>Quantity</th>\n",
       "      <th>Category</th>\n",
       "      <th>URL</th>\n",
       "    </tr>\n",
       "  </thead>\n",
       "  <tbody>\n",
       "    <tr>\n",
       "      <th>0</th>\n",
       "      <td>HiPP Bio Boloňské lasagne</td>\n",
       "      <td>69,90 Kč</td>\n",
       "      <td>59,90 Kč</td>\n",
       "      <td>250 g</td>\n",
       "      <td>Příkrmy-Masové</td>\n",
       "      <td>https://www.rohlik.cz/1298009-hipp-bio-bolonsk...</td>\n",
       "    </tr>\n",
       "    <tr>\n",
       "      <th>0</th>\n",
       "      <td>HiPP Bio Jablečno - hroznová šťáva</td>\n",
       "      <td>34,90 Kč</td>\n",
       "      <td>NaN</td>\n",
       "      <td>200 ml</td>\n",
       "      <td>Nápoje-Ovocné šťávy</td>\n",
       "      <td>https://www.rohlik.cz/1298011-hipp-bio-jablecn...</td>\n",
       "    </tr>\n",
       "    <tr>\n",
       "      <th>0</th>\n",
       "      <td>HiPP Bio Hrušková šťáva</td>\n",
       "      <td>34,90 Kč</td>\n",
       "      <td>NaN</td>\n",
       "      <td>200 ml</td>\n",
       "      <td>Nápoje-Ovocné šťávy</td>\n",
       "      <td>https://www.rohlik.cz/1298013-hipp-bio-hruskov...</td>\n",
       "    </tr>\n",
       "    <tr>\n",
       "      <th>0</th>\n",
       "      <td>HiPP BIO Meruňkovo-Hruškový nektar</td>\n",
       "      <td>34,90 Kč</td>\n",
       "      <td>NaN</td>\n",
       "      <td>200 ml</td>\n",
       "      <td>Nápoje-Ovocné šťávy</td>\n",
       "      <td>https://www.rohlik.cz/1298015-hipp-bio-merunko...</td>\n",
       "    </tr>\n",
       "    <tr>\n",
       "      <th>0</th>\n",
       "      <td>HiPP Bio Švestkový nektar</td>\n",
       "      <td>34,90 Kč</td>\n",
       "      <td>NaN</td>\n",
       "      <td>200 ml</td>\n",
       "      <td>Nápoje-Ovocné šťávy</td>\n",
       "      <td>https://www.rohlik.cz/1298017-hipp-bio-svestko...</td>\n",
       "    </tr>\n",
       "    <tr>\n",
       "      <th>0</th>\n",
       "      <td>HiPP Bio Šťáva z červených plodů ovoce</td>\n",
       "      <td>74,90 Kč</td>\n",
       "      <td>NaN</td>\n",
       "      <td>500 ml</td>\n",
       "      <td>Nápoje-Ovocné šťávy</td>\n",
       "      <td>https://www.rohlik.cz/1298019-hipp-bio-stava-z...</td>\n",
       "    </tr>\n",
       "    <tr>\n",
       "      <th>0</th>\n",
       "      <td>HiPP Bio Jablečno - hroznová šťáva</td>\n",
       "      <td>74,90 Kč</td>\n",
       "      <td>NaN</td>\n",
       "      <td>500 ml</td>\n",
       "      <td>Nápoje-Ovocné šťávy</td>\n",
       "      <td>https://www.rohlik.cz/1298021-hipp-bio-jablecn...</td>\n",
       "    </tr>\n",
       "    <tr>\n",
       "      <th>0</th>\n",
       "      <td>HiPP Bio Jablečná šťáva s fenyklovým čajem</td>\n",
       "      <td>49,90 Kč</td>\n",
       "      <td>46,90 Kč</td>\n",
       "      <td>500 ml</td>\n",
       "      <td>Nápoje-Ovocné šťávy</td>\n",
       "      <td>https://www.rohlik.cz/1298023-hipp-bio-jablecn...</td>\n",
       "    </tr>\n",
       "    <tr>\n",
       "      <th>0</th>\n",
       "      <td>HiPP Mama Nápoj v prášku pro kojící matky</td>\n",
       "      <td>139,90 Kč</td>\n",
       "      <td>NaN</td>\n",
       "      <td>200 g</td>\n",
       "      <td>Pro maminky a těhotné-Kojící čaje a nápoje</td>\n",
       "      <td>https://www.rohlik.cz/1298025-hipp-mama-napoj-...</td>\n",
       "    </tr>\n",
       "    <tr>\n",
       "      <th>0</th>\n",
       "      <td>HiPP Mamasanft Masážní olej na strie</td>\n",
       "      <td>249,90 Kč</td>\n",
       "      <td>NaN</td>\n",
       "      <td>100 ml</td>\n",
       "      <td>Pro maminky a těhotné-Krémy na strie, celulitidu</td>\n",
       "      <td>https://www.rohlik.cz/1298029-hipp-mamasanft-m...</td>\n",
       "    </tr>\n",
       "  </tbody>\n",
       "</table>\n",
       "</div>"
      ],
      "text/plain": [
       "                                 Product name Regular price Promo price  \\\n",
       "0                   HiPP Bio Boloňské lasagne      69,90 Kč   59,90 Kč    \n",
       "0          HiPP Bio Jablečno - hroznová šťáva     34,90 Kč          NaN   \n",
       "0                     HiPP Bio Hrušková šťáva     34,90 Kč          NaN   \n",
       "0          HiPP BIO Meruňkovo-Hruškový nektar     34,90 Kč          NaN   \n",
       "0                   HiPP Bio Švestkový nektar     34,90 Kč          NaN   \n",
       "0      HiPP Bio Šťáva z červených plodů ovoce     74,90 Kč          NaN   \n",
       "0          HiPP Bio Jablečno - hroznová šťáva     74,90 Kč          NaN   \n",
       "0  HiPP Bio Jablečná šťáva s fenyklovým čajem      49,90 Kč   46,90 Kč    \n",
       "0   HiPP Mama Nápoj v prášku pro kojící matky    139,90 Kč          NaN   \n",
       "0        HiPP Mamasanft Masážní olej na strie    249,90 Kč          NaN   \n",
       "\n",
       "  Quantity                                          Category  \\\n",
       "0    250 g                                    Příkrmy-Masové   \n",
       "0   200 ml                               Nápoje-Ovocné šťávy   \n",
       "0   200 ml                               Nápoje-Ovocné šťávy   \n",
       "0   200 ml                               Nápoje-Ovocné šťávy   \n",
       "0   200 ml                               Nápoje-Ovocné šťávy   \n",
       "0   500 ml                               Nápoje-Ovocné šťávy   \n",
       "0   500 ml                               Nápoje-Ovocné šťávy   \n",
       "0   500 ml                               Nápoje-Ovocné šťávy   \n",
       "0    200 g        Pro maminky a těhotné-Kojící čaje a nápoje   \n",
       "0   100 ml  Pro maminky a těhotné-Krémy na strie, celulitidu   \n",
       "\n",
       "                                                 URL  \n",
       "0  https://www.rohlik.cz/1298009-hipp-bio-bolonsk...  \n",
       "0  https://www.rohlik.cz/1298011-hipp-bio-jablecn...  \n",
       "0  https://www.rohlik.cz/1298013-hipp-bio-hruskov...  \n",
       "0  https://www.rohlik.cz/1298015-hipp-bio-merunko...  \n",
       "0  https://www.rohlik.cz/1298017-hipp-bio-svestko...  \n",
       "0  https://www.rohlik.cz/1298019-hipp-bio-stava-z...  \n",
       "0  https://www.rohlik.cz/1298021-hipp-bio-jablecn...  \n",
       "0  https://www.rohlik.cz/1298023-hipp-bio-jablecn...  \n",
       "0  https://www.rohlik.cz/1298025-hipp-mama-napoj-...  \n",
       "0  https://www.rohlik.cz/1298029-hipp-mamasanft-m...  "
      ]
     },
     "execution_count": 17,
     "metadata": {},
     "output_type": "execute_result"
    }
   ],
   "source": [
    "# try the function:\n",
    "a = [extract_rohlik(x) for x in products[160:170]]\n",
    "pd.concat(a, axis = 0)"
   ]
  },
  {
   "cell_type": "code",
   "execution_count": null,
   "metadata": {},
   "outputs": [],
   "source": [
    "# Data storing with try except\n",
    "all_product_data = pd.DataFrame([])\n",
    "\n",
    "for x in products[:100]:\n",
    "    try:\n",
    "        d = extract_rohlik(x) \n",
    "        all_product_data = all_product_data.append(d)\n",
    "        \n",
    "    except Exception as e:\n",
    "        # If there is an error, store the error message and corresponding url to the dataframe\n",
    "        error_frame = pd.DataFrame([[str(e), x]], columns = ['Error', 'URL'])\n",
    "        all_product_data = all_product_data.append(error_frame)\n",
    "\n",
    "all_product_data"
   ]
  },
  {
   "cell_type": "code",
   "execution_count": null,
   "metadata": {},
   "outputs": [],
   "source": [
    "# Export data: \n",
    "all_product_data.to_csv('data_week_4a.csv', sep = ';', encoding='utf-8')"
   ]
  },
  {
   "cell_type": "code",
   "execution_count": 2,
   "metadata": {
    "scrolled": false
   },
   "outputs": [
    {
     "ename": "FileNotFoundError",
     "evalue": "File b'data_week_4a.csv' does not exist",
     "output_type": "error",
     "traceback": [
      "\u001b[1;31m---------------------------------------------------------------------------\u001b[0m",
      "\u001b[1;31mFileNotFoundError\u001b[0m                         Traceback (most recent call last)",
      "\u001b[1;32m<ipython-input-2-0e0288fdc190>\u001b[0m in \u001b[0;36m<module>\u001b[1;34m()\u001b[0m\n\u001b[0;32m      1\u001b[0m \u001b[1;31m# Try to read the data (see if encoding works properly):\u001b[0m\u001b[1;33m\u001b[0m\u001b[1;33m\u001b[0m\u001b[0m\n\u001b[1;32m----> 2\u001b[1;33m \u001b[0mtry_data\u001b[0m \u001b[1;33m=\u001b[0m \u001b[0mpd\u001b[0m\u001b[1;33m.\u001b[0m\u001b[0mread_csv\u001b[0m\u001b[1;33m(\u001b[0m\u001b[1;34m'data_week_4a.csv'\u001b[0m\u001b[1;33m,\u001b[0m \u001b[0msep\u001b[0m \u001b[1;33m=\u001b[0m \u001b[1;34m';'\u001b[0m\u001b[1;33m)\u001b[0m\u001b[1;33m\u001b[0m\u001b[0m\n\u001b[0m\u001b[0;32m      3\u001b[0m \u001b[0mtry_data\u001b[0m\u001b[1;33m.\u001b[0m\u001b[0mhead\u001b[0m\u001b[1;33m(\u001b[0m\u001b[1;33m)\u001b[0m\u001b[1;33m\u001b[0m\u001b[0m\n",
      "\u001b[1;32m~\\Anaconda1\\lib\\site-packages\\pandas\\io\\parsers.py\u001b[0m in \u001b[0;36mparser_f\u001b[1;34m(filepath_or_buffer, sep, delimiter, header, names, index_col, usecols, squeeze, prefix, mangle_dupe_cols, dtype, engine, converters, true_values, false_values, skipinitialspace, skiprows, nrows, na_values, keep_default_na, na_filter, verbose, skip_blank_lines, parse_dates, infer_datetime_format, keep_date_col, date_parser, dayfirst, iterator, chunksize, compression, thousands, decimal, lineterminator, quotechar, quoting, escapechar, comment, encoding, dialect, tupleize_cols, error_bad_lines, warn_bad_lines, skipfooter, doublequote, delim_whitespace, low_memory, memory_map, float_precision)\u001b[0m\n\u001b[0;32m    676\u001b[0m                     skip_blank_lines=skip_blank_lines)\n\u001b[0;32m    677\u001b[0m \u001b[1;33m\u001b[0m\u001b[0m\n\u001b[1;32m--> 678\u001b[1;33m         \u001b[1;32mreturn\u001b[0m \u001b[0m_read\u001b[0m\u001b[1;33m(\u001b[0m\u001b[0mfilepath_or_buffer\u001b[0m\u001b[1;33m,\u001b[0m \u001b[0mkwds\u001b[0m\u001b[1;33m)\u001b[0m\u001b[1;33m\u001b[0m\u001b[0m\n\u001b[0m\u001b[0;32m    679\u001b[0m \u001b[1;33m\u001b[0m\u001b[0m\n\u001b[0;32m    680\u001b[0m     \u001b[0mparser_f\u001b[0m\u001b[1;33m.\u001b[0m\u001b[0m__name__\u001b[0m \u001b[1;33m=\u001b[0m \u001b[0mname\u001b[0m\u001b[1;33m\u001b[0m\u001b[0m\n",
      "\u001b[1;32m~\\Anaconda1\\lib\\site-packages\\pandas\\io\\parsers.py\u001b[0m in \u001b[0;36m_read\u001b[1;34m(filepath_or_buffer, kwds)\u001b[0m\n\u001b[0;32m    438\u001b[0m \u001b[1;33m\u001b[0m\u001b[0m\n\u001b[0;32m    439\u001b[0m     \u001b[1;31m# Create the parser.\u001b[0m\u001b[1;33m\u001b[0m\u001b[1;33m\u001b[0m\u001b[0m\n\u001b[1;32m--> 440\u001b[1;33m     \u001b[0mparser\u001b[0m \u001b[1;33m=\u001b[0m \u001b[0mTextFileReader\u001b[0m\u001b[1;33m(\u001b[0m\u001b[0mfilepath_or_buffer\u001b[0m\u001b[1;33m,\u001b[0m \u001b[1;33m**\u001b[0m\u001b[0mkwds\u001b[0m\u001b[1;33m)\u001b[0m\u001b[1;33m\u001b[0m\u001b[0m\n\u001b[0m\u001b[0;32m    441\u001b[0m \u001b[1;33m\u001b[0m\u001b[0m\n\u001b[0;32m    442\u001b[0m     \u001b[1;32mif\u001b[0m \u001b[0mchunksize\u001b[0m \u001b[1;32mor\u001b[0m \u001b[0miterator\u001b[0m\u001b[1;33m:\u001b[0m\u001b[1;33m\u001b[0m\u001b[0m\n",
      "\u001b[1;32m~\\Anaconda1\\lib\\site-packages\\pandas\\io\\parsers.py\u001b[0m in \u001b[0;36m__init__\u001b[1;34m(self, f, engine, **kwds)\u001b[0m\n\u001b[0;32m    785\u001b[0m             \u001b[0mself\u001b[0m\u001b[1;33m.\u001b[0m\u001b[0moptions\u001b[0m\u001b[1;33m[\u001b[0m\u001b[1;34m'has_index_names'\u001b[0m\u001b[1;33m]\u001b[0m \u001b[1;33m=\u001b[0m \u001b[0mkwds\u001b[0m\u001b[1;33m[\u001b[0m\u001b[1;34m'has_index_names'\u001b[0m\u001b[1;33m]\u001b[0m\u001b[1;33m\u001b[0m\u001b[0m\n\u001b[0;32m    786\u001b[0m \u001b[1;33m\u001b[0m\u001b[0m\n\u001b[1;32m--> 787\u001b[1;33m         \u001b[0mself\u001b[0m\u001b[1;33m.\u001b[0m\u001b[0m_make_engine\u001b[0m\u001b[1;33m(\u001b[0m\u001b[0mself\u001b[0m\u001b[1;33m.\u001b[0m\u001b[0mengine\u001b[0m\u001b[1;33m)\u001b[0m\u001b[1;33m\u001b[0m\u001b[0m\n\u001b[0m\u001b[0;32m    788\u001b[0m \u001b[1;33m\u001b[0m\u001b[0m\n\u001b[0;32m    789\u001b[0m     \u001b[1;32mdef\u001b[0m \u001b[0mclose\u001b[0m\u001b[1;33m(\u001b[0m\u001b[0mself\u001b[0m\u001b[1;33m)\u001b[0m\u001b[1;33m:\u001b[0m\u001b[1;33m\u001b[0m\u001b[0m\n",
      "\u001b[1;32m~\\Anaconda1\\lib\\site-packages\\pandas\\io\\parsers.py\u001b[0m in \u001b[0;36m_make_engine\u001b[1;34m(self, engine)\u001b[0m\n\u001b[0;32m   1012\u001b[0m     \u001b[1;32mdef\u001b[0m \u001b[0m_make_engine\u001b[0m\u001b[1;33m(\u001b[0m\u001b[0mself\u001b[0m\u001b[1;33m,\u001b[0m \u001b[0mengine\u001b[0m\u001b[1;33m=\u001b[0m\u001b[1;34m'c'\u001b[0m\u001b[1;33m)\u001b[0m\u001b[1;33m:\u001b[0m\u001b[1;33m\u001b[0m\u001b[0m\n\u001b[0;32m   1013\u001b[0m         \u001b[1;32mif\u001b[0m \u001b[0mengine\u001b[0m \u001b[1;33m==\u001b[0m \u001b[1;34m'c'\u001b[0m\u001b[1;33m:\u001b[0m\u001b[1;33m\u001b[0m\u001b[0m\n\u001b[1;32m-> 1014\u001b[1;33m             \u001b[0mself\u001b[0m\u001b[1;33m.\u001b[0m\u001b[0m_engine\u001b[0m \u001b[1;33m=\u001b[0m \u001b[0mCParserWrapper\u001b[0m\u001b[1;33m(\u001b[0m\u001b[0mself\u001b[0m\u001b[1;33m.\u001b[0m\u001b[0mf\u001b[0m\u001b[1;33m,\u001b[0m \u001b[1;33m**\u001b[0m\u001b[0mself\u001b[0m\u001b[1;33m.\u001b[0m\u001b[0moptions\u001b[0m\u001b[1;33m)\u001b[0m\u001b[1;33m\u001b[0m\u001b[0m\n\u001b[0m\u001b[0;32m   1015\u001b[0m         \u001b[1;32melse\u001b[0m\u001b[1;33m:\u001b[0m\u001b[1;33m\u001b[0m\u001b[0m\n\u001b[0;32m   1016\u001b[0m             \u001b[1;32mif\u001b[0m \u001b[0mengine\u001b[0m \u001b[1;33m==\u001b[0m \u001b[1;34m'python'\u001b[0m\u001b[1;33m:\u001b[0m\u001b[1;33m\u001b[0m\u001b[0m\n",
      "\u001b[1;32m~\\Anaconda1\\lib\\site-packages\\pandas\\io\\parsers.py\u001b[0m in \u001b[0;36m__init__\u001b[1;34m(self, src, **kwds)\u001b[0m\n\u001b[0;32m   1706\u001b[0m         \u001b[0mkwds\u001b[0m\u001b[1;33m[\u001b[0m\u001b[1;34m'usecols'\u001b[0m\u001b[1;33m]\u001b[0m \u001b[1;33m=\u001b[0m \u001b[0mself\u001b[0m\u001b[1;33m.\u001b[0m\u001b[0musecols\u001b[0m\u001b[1;33m\u001b[0m\u001b[0m\n\u001b[0;32m   1707\u001b[0m \u001b[1;33m\u001b[0m\u001b[0m\n\u001b[1;32m-> 1708\u001b[1;33m         \u001b[0mself\u001b[0m\u001b[1;33m.\u001b[0m\u001b[0m_reader\u001b[0m \u001b[1;33m=\u001b[0m \u001b[0mparsers\u001b[0m\u001b[1;33m.\u001b[0m\u001b[0mTextReader\u001b[0m\u001b[1;33m(\u001b[0m\u001b[0msrc\u001b[0m\u001b[1;33m,\u001b[0m \u001b[1;33m**\u001b[0m\u001b[0mkwds\u001b[0m\u001b[1;33m)\u001b[0m\u001b[1;33m\u001b[0m\u001b[0m\n\u001b[0m\u001b[0;32m   1709\u001b[0m \u001b[1;33m\u001b[0m\u001b[0m\n\u001b[0;32m   1710\u001b[0m         \u001b[0mpassed_names\u001b[0m \u001b[1;33m=\u001b[0m \u001b[0mself\u001b[0m\u001b[1;33m.\u001b[0m\u001b[0mnames\u001b[0m \u001b[1;32mis\u001b[0m \u001b[1;32mNone\u001b[0m\u001b[1;33m\u001b[0m\u001b[0m\n",
      "\u001b[1;32mpandas\\_libs\\parsers.pyx\u001b[0m in \u001b[0;36mpandas._libs.parsers.TextReader.__cinit__\u001b[1;34m()\u001b[0m\n",
      "\u001b[1;32mpandas\\_libs\\parsers.pyx\u001b[0m in \u001b[0;36mpandas._libs.parsers.TextReader._setup_parser_source\u001b[1;34m()\u001b[0m\n",
      "\u001b[1;31mFileNotFoundError\u001b[0m: File b'data_week_4a.csv' does not exist"
     ]
    }
   ],
   "source": [
    "# Try to read the data (see if encoding works properly): \n",
    "try_data = pd.read_csv('data_week_4a.csv', sep = ';')\n",
    "try_data.head()"
   ]
  },
  {
   "cell_type": "markdown",
   "metadata": {},
   "source": [
    "# Part II. - Loading and preparing data for analysis #"
   ]
  },
  {
   "cell_type": "code",
   "execution_count": 20,
   "metadata": {},
   "outputs": [],
   "source": [
    "### Data load ###\n",
    "\n",
    "# Set the number of weeks in which data were scraped\n",
    "n_of_weeks = 3  \n",
    "\n",
    "# Initialize empty dataframe with time column\n",
    "data = pd.DataFrame(columns = ['Time'])\n",
    "\n",
    "# Load parts a,b for every week, add time, append to the final dataframe\n",
    "for x in range(1, n_of_weeks + 1):\n",
    "    \n",
    "    a = pd.read_csv('data_week_' + str(x) + 'a.csv', sep = ';', encoding = 'utf8')\n",
    "    b = pd.read_csv('data_week_' + str(x) + 'b.csv', sep = ';', encoding = 'utf8')\n",
    "    a['Time'] = x\n",
    "    b['Time'] = x\n",
    "    \n",
    "    data = data.append(a, ignore_index = True, sort = True).append(b, ignore_index = True, sort = True)"
   ]
  },
  {
   "cell_type": "code",
   "execution_count": 21,
   "metadata": {},
   "outputs": [
    {
     "data": {
      "text/html": [
       "<div>\n",
       "<style scoped>\n",
       "    .dataframe tbody tr th:only-of-type {\n",
       "        vertical-align: middle;\n",
       "    }\n",
       "\n",
       "    .dataframe tbody tr th {\n",
       "        vertical-align: top;\n",
       "    }\n",
       "\n",
       "    .dataframe thead th {\n",
       "        text-align: right;\n",
       "    }\n",
       "</style>\n",
       "<table border=\"1\" class=\"dataframe\">\n",
       "  <thead>\n",
       "    <tr style=\"text-align: right;\">\n",
       "      <th></th>\n",
       "      <th>Category</th>\n",
       "      <th>Error</th>\n",
       "      <th>Product name</th>\n",
       "      <th>Promo price</th>\n",
       "      <th>Quantity</th>\n",
       "      <th>Regular price</th>\n",
       "      <th>Time</th>\n",
       "      <th>URL</th>\n",
       "      <th>Unnamed: 0</th>\n",
       "    </tr>\n",
       "  </thead>\n",
       "  <tbody>\n",
       "    <tr>\n",
       "      <th>0</th>\n",
       "      <td>Pánské-Kuličkové</td>\n",
       "      <td>NaN</td>\n",
       "      <td>Nivea Men Silver Protect Kuličkový antiperspirant</td>\n",
       "      <td>84,90 Kč</td>\n",
       "      <td>50 ml</td>\n",
       "      <td>89,90 Kč</td>\n",
       "      <td>1</td>\n",
       "      <td>https://www.rohlik.cz/1296727-nivea-men-silver...</td>\n",
       "      <td>0.0</td>\n",
       "    </tr>\n",
       "    <tr>\n",
       "      <th>1</th>\n",
       "      <td>Pánské-Ve spreji</td>\n",
       "      <td>NaN</td>\n",
       "      <td>Nivea For Men Invisible for black &amp; white anti...</td>\n",
       "      <td>84,90 Kč</td>\n",
       "      <td>150 ml</td>\n",
       "      <td>89,90 Kč</td>\n",
       "      <td>1</td>\n",
       "      <td>https://www.rohlik.cz/1296729-nivea-for-men-in...</td>\n",
       "      <td>0.0</td>\n",
       "    </tr>\n",
       "    <tr>\n",
       "      <th>2</th>\n",
       "      <td>Dámské hygienické potřeby-Intimní hygiena</td>\n",
       "      <td>NaN</td>\n",
       "      <td>Nivea Intimo Sensitive sprchová emulze pro int...</td>\n",
       "      <td>NaN</td>\n",
       "      <td>250 ml</td>\n",
       "      <td>119,90 Kč</td>\n",
       "      <td>1</td>\n",
       "      <td>https://www.rohlik.cz/1296749-nivea-intimo-sen...</td>\n",
       "      <td>0.0</td>\n",
       "    </tr>\n",
       "  </tbody>\n",
       "</table>\n",
       "</div>"
      ],
      "text/plain": [
       "                                    Category Error  \\\n",
       "0                           Pánské-Kuličkové   NaN   \n",
       "1                           Pánské-Ve spreji   NaN   \n",
       "2  Dámské hygienické potřeby-Intimní hygiena   NaN   \n",
       "\n",
       "                                        Product name Promo price Quantity  \\\n",
       "0  Nivea Men Silver Protect Kuličkový antiperspirant   84,90 Kč     50 ml   \n",
       "1  Nivea For Men Invisible for black & white anti...   84,90 Kč    150 ml   \n",
       "2  Nivea Intimo Sensitive sprchová emulze pro int...         NaN   250 ml   \n",
       "\n",
       "  Regular price Time                                                URL  \\\n",
       "0      89,90 Kč    1  https://www.rohlik.cz/1296727-nivea-men-silver...   \n",
       "1      89,90 Kč    1  https://www.rohlik.cz/1296729-nivea-for-men-in...   \n",
       "2    119,90 Kč     1  https://www.rohlik.cz/1296749-nivea-intimo-sen...   \n",
       "\n",
       "   Unnamed: 0  \n",
       "0         0.0  \n",
       "1         0.0  \n",
       "2         0.0  "
      ]
     },
     "execution_count": 21,
     "metadata": {},
     "output_type": "execute_result"
    }
   ],
   "source": [
    "# Check\n",
    "data.head(3)"
   ]
  },
  {
   "cell_type": "code",
   "execution_count": 22,
   "metadata": {},
   "outputs": [],
   "source": [
    "# Dropping unnecessary columns\n",
    "data = data[['Category', 'Product name', 'Regular price', 'Promo price', 'Quantity', 'Time']]\n",
    "\n",
    "# Splitting category column into main category and subcategory\n",
    "data[['Category', 'Subcategory']] = data.Category.str.split(\"-\", n = 1, expand = True)"
   ]
  },
  {
   "cell_type": "code",
   "execution_count": 23,
   "metadata": {},
   "outputs": [
    {
     "data": {
      "text/html": [
       "<div>\n",
       "<style scoped>\n",
       "    .dataframe tbody tr th:only-of-type {\n",
       "        vertical-align: middle;\n",
       "    }\n",
       "\n",
       "    .dataframe tbody tr th {\n",
       "        vertical-align: top;\n",
       "    }\n",
       "\n",
       "    .dataframe thead th {\n",
       "        text-align: right;\n",
       "    }\n",
       "</style>\n",
       "<table border=\"1\" class=\"dataframe\">\n",
       "  <thead>\n",
       "    <tr style=\"text-align: right;\">\n",
       "      <th></th>\n",
       "      <th>Category</th>\n",
       "      <th>Product name</th>\n",
       "      <th>Regular price</th>\n",
       "      <th>Promo price</th>\n",
       "      <th>Quantity</th>\n",
       "      <th>Time</th>\n",
       "      <th>Subcategory</th>\n",
       "    </tr>\n",
       "  </thead>\n",
       "  <tbody>\n",
       "    <tr>\n",
       "      <th>0</th>\n",
       "      <td>Pánské</td>\n",
       "      <td>Nivea Men Silver Protect Kuličkový antiperspirant</td>\n",
       "      <td>89,90 Kč</td>\n",
       "      <td>84,90 Kč</td>\n",
       "      <td>50 ml</td>\n",
       "      <td>1</td>\n",
       "      <td>Kuličkové</td>\n",
       "    </tr>\n",
       "    <tr>\n",
       "      <th>1</th>\n",
       "      <td>Pánské</td>\n",
       "      <td>Nivea For Men Invisible for black &amp; white anti...</td>\n",
       "      <td>89,90 Kč</td>\n",
       "      <td>84,90 Kč</td>\n",
       "      <td>150 ml</td>\n",
       "      <td>1</td>\n",
       "      <td>Ve spreji</td>\n",
       "    </tr>\n",
       "    <tr>\n",
       "      <th>2</th>\n",
       "      <td>Dámské hygienické potřeby</td>\n",
       "      <td>Nivea Intimo Sensitive sprchová emulze pro int...</td>\n",
       "      <td>119,90 Kč</td>\n",
       "      <td>NaN</td>\n",
       "      <td>250 ml</td>\n",
       "      <td>1</td>\n",
       "      <td>Intimní hygiena</td>\n",
       "    </tr>\n",
       "  </tbody>\n",
       "</table>\n",
       "</div>"
      ],
      "text/plain": [
       "                    Category  \\\n",
       "0                     Pánské   \n",
       "1                     Pánské   \n",
       "2  Dámské hygienické potřeby   \n",
       "\n",
       "                                        Product name Regular price  \\\n",
       "0  Nivea Men Silver Protect Kuličkový antiperspirant      89,90 Kč   \n",
       "1  Nivea For Men Invisible for black & white anti...      89,90 Kč   \n",
       "2  Nivea Intimo Sensitive sprchová emulze pro int...    119,90 Kč    \n",
       "\n",
       "  Promo price Quantity Time      Subcategory  \n",
       "0   84,90 Kč     50 ml    1        Kuličkové  \n",
       "1   84,90 Kč    150 ml    1        Ve spreji  \n",
       "2         NaN   250 ml    1  Intimní hygiena  "
      ]
     },
     "execution_count": 23,
     "metadata": {},
     "output_type": "execute_result"
    }
   ],
   "source": [
    "# Check\n",
    "data.head(3)"
   ]
  },
  {
   "cell_type": "code",
   "execution_count": 24,
   "metadata": {},
   "outputs": [],
   "source": [
    "# Converting prices to numbers\n",
    "\n",
    "# a) Trim \"Kč\" \n",
    "data['Promo price'] = data['Promo price'].str.replace('Kč', '')\n",
    "data['Regular price'] = data['Regular price'].str.replace('Kč', '')\n",
    "\n",
    "# b) Decimal point instead of comma\n",
    "data['Promo price'] = data['Promo price'].str.replace(',', '.')\n",
    "data['Regular price'] = data['Regular price'].str.replace(',', '.')\n",
    "\n",
    "# c) Remove thousand separator in numbers\n",
    "data['Promo price'].replace('\\s+', '', regex = True, inplace = True)\n",
    "data['Regular price'].replace('\\s+', '', regex = True, inplace = True)\n",
    "\n",
    "# d) Remove all non-decimal characters\n",
    "data['Promo price'].replace(r'[^\\d.]+', '', regex = True, inplace = True)\n",
    "data['Regular price'].replace(r'[^\\d.]+', '', regex = True, inplace = True)\n",
    "\n",
    "# e) Convert to float type\n",
    "data['Promo price'] = data['Promo price'].astype('float')\n",
    "data['Regular price'] = data['Regular price'].astype('float')\n",
    "\n",
    "# f) Round to 1 decimal place\n",
    "data = data.round(1)"
   ]
  },
  {
   "cell_type": "code",
   "execution_count": 25,
   "metadata": {},
   "outputs": [
    {
     "name": "stdout",
     "output_type": "stream",
     "text": [
      "Category          object\n",
      "Product name      object\n",
      "Regular price    float64\n",
      "Promo price      float64\n",
      "Quantity          object\n",
      "Time              object\n",
      "Subcategory       object\n",
      "dtype: object\n"
     ]
    },
    {
     "data": {
      "text/html": [
       "<div>\n",
       "<style scoped>\n",
       "    .dataframe tbody tr th:only-of-type {\n",
       "        vertical-align: middle;\n",
       "    }\n",
       "\n",
       "    .dataframe tbody tr th {\n",
       "        vertical-align: top;\n",
       "    }\n",
       "\n",
       "    .dataframe thead th {\n",
       "        text-align: right;\n",
       "    }\n",
       "</style>\n",
       "<table border=\"1\" class=\"dataframe\">\n",
       "  <thead>\n",
       "    <tr style=\"text-align: right;\">\n",
       "      <th></th>\n",
       "      <th>Category</th>\n",
       "      <th>Product name</th>\n",
       "      <th>Regular price</th>\n",
       "      <th>Promo price</th>\n",
       "      <th>Quantity</th>\n",
       "      <th>Time</th>\n",
       "      <th>Subcategory</th>\n",
       "    </tr>\n",
       "  </thead>\n",
       "  <tbody>\n",
       "    <tr>\n",
       "      <th>0</th>\n",
       "      <td>Pánské</td>\n",
       "      <td>Nivea Men Silver Protect Kuličkový antiperspirant</td>\n",
       "      <td>89.9</td>\n",
       "      <td>84.9</td>\n",
       "      <td>50 ml</td>\n",
       "      <td>1</td>\n",
       "      <td>Kuličkové</td>\n",
       "    </tr>\n",
       "    <tr>\n",
       "      <th>1</th>\n",
       "      <td>Pánské</td>\n",
       "      <td>Nivea For Men Invisible for black &amp; white anti...</td>\n",
       "      <td>89.9</td>\n",
       "      <td>84.9</td>\n",
       "      <td>150 ml</td>\n",
       "      <td>1</td>\n",
       "      <td>Ve spreji</td>\n",
       "    </tr>\n",
       "    <tr>\n",
       "      <th>2</th>\n",
       "      <td>Dámské hygienické potřeby</td>\n",
       "      <td>Nivea Intimo Sensitive sprchová emulze pro int...</td>\n",
       "      <td>119.9</td>\n",
       "      <td>NaN</td>\n",
       "      <td>250 ml</td>\n",
       "      <td>1</td>\n",
       "      <td>Intimní hygiena</td>\n",
       "    </tr>\n",
       "    <tr>\n",
       "      <th>3</th>\n",
       "      <td>Mýdla</td>\n",
       "      <td>Nivea Creme Care tekuté mýdlo na ruce</td>\n",
       "      <td>59.9</td>\n",
       "      <td>NaN</td>\n",
       "      <td>250 ml</td>\n",
       "      <td>1</td>\n",
       "      <td>Tekutá</td>\n",
       "    </tr>\n",
       "    <tr>\n",
       "      <th>4</th>\n",
       "      <td>Ústní hygiena</td>\n",
       "      <td>Odol Stoma Paradentol Ústní voda pro zdravé dásně</td>\n",
       "      <td>89.9</td>\n",
       "      <td>84.9</td>\n",
       "      <td>500 ml</td>\n",
       "      <td>1</td>\n",
       "      <td>Ústní vody</td>\n",
       "    </tr>\n",
       "    <tr>\n",
       "      <th>5</th>\n",
       "      <td>Racio a Knäckebrot</td>\n",
       "      <td>RACIO Chlebíčky rýžové</td>\n",
       "      <td>13.9</td>\n",
       "      <td>NaN</td>\n",
       "      <td>130 g</td>\n",
       "      <td>1</td>\n",
       "      <td>Pufované pečivo</td>\n",
       "    </tr>\n",
       "    <tr>\n",
       "      <th>6</th>\n",
       "      <td>Káva</td>\n",
       "      <td>Nescafé Dolce Gusto Lungo Intenso 16ks</td>\n",
       "      <td>149.9</td>\n",
       "      <td>NaN</td>\n",
       "      <td>NaN</td>\n",
       "      <td>1</td>\n",
       "      <td>Kapsle a pody</td>\n",
       "    </tr>\n",
       "    <tr>\n",
       "      <th>7</th>\n",
       "      <td>Mléko a mléčné nápoje</td>\n",
       "      <td>Alpro Kokosový nápoj Original s rýží</td>\n",
       "      <td>69.9</td>\n",
       "      <td>NaN</td>\n",
       "      <td>1 l</td>\n",
       "      <td>1</td>\n",
       "      <td>Rostlinné nápoje</td>\n",
       "    </tr>\n",
       "    <tr>\n",
       "      <th>8</th>\n",
       "      <td>Mléko a mléčné nápoje</td>\n",
       "      <td>Alpro Sójový Nápoj Original</td>\n",
       "      <td>59.9</td>\n",
       "      <td>NaN</td>\n",
       "      <td>1 l</td>\n",
       "      <td>1</td>\n",
       "      <td>Rostlinné nápoje</td>\n",
       "    </tr>\n",
       "    <tr>\n",
       "      <th>9</th>\n",
       "      <td>Racio a Knäckebrot</td>\n",
       "      <td>Wasa Delikatess celozrnný žitný křupavý chléb</td>\n",
       "      <td>54.9</td>\n",
       "      <td>NaN</td>\n",
       "      <td>270 g</td>\n",
       "      <td>1</td>\n",
       "      <td>Knäckebrot</td>\n",
       "    </tr>\n",
       "  </tbody>\n",
       "</table>\n",
       "</div>"
      ],
      "text/plain": [
       "                    Category  \\\n",
       "0                     Pánské   \n",
       "1                     Pánské   \n",
       "2  Dámské hygienické potřeby   \n",
       "3                      Mýdla   \n",
       "4              Ústní hygiena   \n",
       "5         Racio a Knäckebrot   \n",
       "6                       Káva   \n",
       "7      Mléko a mléčné nápoje   \n",
       "8      Mléko a mléčné nápoje   \n",
       "9         Racio a Knäckebrot   \n",
       "\n",
       "                                        Product name  Regular price  \\\n",
       "0  Nivea Men Silver Protect Kuličkový antiperspirant           89.9   \n",
       "1  Nivea For Men Invisible for black & white anti...           89.9   \n",
       "2  Nivea Intimo Sensitive sprchová emulze pro int...          119.9   \n",
       "3              Nivea Creme Care tekuté mýdlo na ruce           59.9   \n",
       "4  Odol Stoma Paradentol Ústní voda pro zdravé dásně           89.9   \n",
       "5                             RACIO Chlebíčky rýžové           13.9   \n",
       "6             Nescafé Dolce Gusto Lungo Intenso 16ks          149.9   \n",
       "7               Alpro Kokosový nápoj Original s rýží           69.9   \n",
       "8                        Alpro Sójový Nápoj Original           59.9   \n",
       "9      Wasa Delikatess celozrnný žitný křupavý chléb           54.9   \n",
       "\n",
       "   Promo price Quantity Time       Subcategory  \n",
       "0         84.9    50 ml    1         Kuličkové  \n",
       "1         84.9   150 ml    1         Ve spreji  \n",
       "2          NaN   250 ml    1   Intimní hygiena  \n",
       "3          NaN   250 ml    1            Tekutá  \n",
       "4         84.9   500 ml    1        Ústní vody  \n",
       "5          NaN    130 g    1   Pufované pečivo  \n",
       "6          NaN      NaN    1     Kapsle a pody  \n",
       "7          NaN      1 l    1  Rostlinné nápoje  \n",
       "8          NaN      1 l    1  Rostlinné nápoje  \n",
       "9          NaN    270 g    1        Knäckebrot  "
      ]
     },
     "execution_count": 25,
     "metadata": {},
     "output_type": "execute_result"
    }
   ],
   "source": [
    "# Check\n",
    "print(data.dtypes)\n",
    "data.head(10)"
   ]
  },
  {
   "cell_type": "code",
   "execution_count": 26,
   "metadata": {},
   "outputs": [],
   "source": [
    "# Compute promo in % (NaN is produced if there was no promo price)\n",
    "data['Discount in %'] = (((data['Regular price'] - data['Promo price']) / data['Regular price']) * 100).round(1)"
   ]
  },
  {
   "cell_type": "markdown",
   "metadata": {},
   "source": [
    "## 0. GENERAL OVERVIEW ##"
   ]
  },
  {
   "cell_type": "markdown",
   "metadata": {},
   "source": [
    "**How many categories, subcategories, and products can we find on Rohlik.cz website?**"
   ]
  },
  {
   "cell_type": "code",
   "execution_count": 18,
   "metadata": {
    "scrolled": true
   },
   "outputs": [
    {
     "data": {
      "text/plain": [
       "Category          219\n",
       "Subcategory       811\n",
       "Product name    14699\n",
       "dtype: int64"
      ]
     },
     "execution_count": 18,
     "metadata": {},
     "output_type": "execute_result"
    }
   ],
   "source": [
    "data.nunique()[['Category', 'Subcategory', 'Product name']]"
   ]
  },
  {
   "cell_type": "markdown",
   "metadata": {},
   "source": [
    "On Rohlik.cz, we can find 211 product categories, which are further divided into 789 subcategories. In total, we can find 14 699 unique products on the Rohlik.cz website."
   ]
  },
  {
   "cell_type": "markdown",
   "metadata": {},
   "source": [
    "**How many discounts did Rohlik.cz offer during the analyzed time period?**"
   ]
  },
  {
   "cell_type": "code",
   "execution_count": 19,
   "metadata": {},
   "outputs": [
    {
     "data": {
      "text/plain": [
       "Discount in %    6324\n",
       "dtype: int64"
      ]
     },
     "execution_count": 19,
     "metadata": {},
     "output_type": "execute_result"
    }
   ],
   "source": [
    "# Count promos during analyzed time period\n",
    "data.count()[['Discount in %']]"
   ]
  },
  {
   "cell_type": "markdown",
   "metadata": {},
   "source": [
    "During the analyzed time period, we could find 4 404 discount offers."
   ]
  },
  {
   "cell_type": "markdown",
   "metadata": {},
   "source": [
    "**Analysis structure**"
   ]
  },
  {
   "cell_type": "markdown",
   "metadata": {},
   "source": [
    "Our analysis of Rohlik.cz data has the following structure:\n",
    "\n",
    "**1. Category analysis**\n",
    "\n",
    "&nbsp;&nbsp;  **A)** The cheapest and the most expensive product categories <br>\n",
    "&nbsp;&nbsp;  **B)** Categories with the best product choice <br>\n",
    "&nbsp;&nbsp;  **C)** Categories with the highest number of discounted products in the analyzed time period & categories with the best deals (highest average discount in %)<br>\n",
    "\n",
    "**2. Product analysis**\n",
    "\n",
    "&nbsp;&nbsp;  **A)** The most expensive and the cheapest products on Rohlik.cz   \n",
    "&nbsp;&nbsp;  **B)** Products that were offered in the biggest discount (in %) during the analyzed time period<br>\n",
    "\n",
    "**3. Pricing analysis**\n",
    "\n",
    "&nbsp;&nbsp;  **A)** Pricing overview for all products in the whole analyzed time period\n",
    "- Distribution of regular product prices\n",
    "- Distribution of discounts (in %)<br>\n",
    "\n",
    "&nbsp;&nbsp;  **B)** Pricing overview for selected products, development of prices over time\n",
    "- Product selection\n",
    "- Analysis of development of regular prices in time\n",
    "- Analysis of development of promo prices in time\n",
    " \n"
   ]
  },
  {
   "cell_type": "markdown",
   "metadata": {},
   "source": [
    "## 1. CATEGORY ANALYSIS ##"
   ]
  },
  {
   "cell_type": "code",
   "execution_count": 27,
   "metadata": {},
   "outputs": [],
   "source": [
    "# First, let's define a function that will allow us to make nice plots for category analysis\n",
    "\n",
    "def make_cat_barchart(data_to_plot, color, xlabel, title, pos):\n",
    "    \n",
    "    # Plot horizontal barchat\n",
    "    theplot = data_to_plot.plot(kind = 'barh', color = color, ax = pos)\n",
    "    \n",
    "    # Sort the bars\n",
    "    theplot.invert_yaxis()\n",
    "    \n",
    "    # Remove borders\n",
    "    [s.set_visible(False) for s in theplot.spines.values()] \n",
    "    \n",
    "    # Remove ticks\n",
    "    [t.set_visible(False) for t in theplot.get_xticklines()]\n",
    "    \n",
    "    # Remove legend\n",
    "    theplot.get_legend().remove()\n",
    "    \n",
    "    # Draw vertical axis lines\n",
    "    vals = theplot.get_xticks()\n",
    "    for tick in vals:\n",
    "        theplot.axvline(x = tick, alpha = 0.4, color = '#e0e0d1', zorder = 1, linewidth = 0.85)\n",
    "    \n",
    "    # Set title\n",
    "    theplot.set_title(title, weight = 'semibold', loc = 'left', size = 13, pad = 20)\n",
    "    \n",
    "    # Set x label\n",
    "    theplot.set_xlabel(xlabel, labelpad = 20, weight = 'medium', size = 10)\n",
    "    \n",
    "    # Hide y label\n",
    "    theplot.yaxis.label.set_visible(False)"
   ]
  },
  {
   "cell_type": "markdown",
   "metadata": {},
   "source": [
    "### A) The cheapest and the most expensive product categories ###"
   ]
  },
  {
   "cell_type": "markdown",
   "metadata": {},
   "source": [
    "What are the top 10 most expensive categories? And top 10 cheapest ones? We look at the categories with the highest/lowest average regular price."
   ]
  },
  {
   "cell_type": "code",
   "execution_count": 28,
   "metadata": {},
   "outputs": [],
   "source": [
    "# Obtain top 10 categories with the highest average (regular) price\n",
    "cat_high_price = data.groupby('Category').mean().sort_values('Regular price', ascending = False).round(1)[['Regular price']].head(10)\n",
    "\n",
    "# Obtain top 10 categories with the lowest average (regular) price\n",
    "cat_low_price = data.groupby('Category').mean().sort_values('Regular price', ascending = True).round(1)[['Regular price']].head(10)"
   ]
  },
  {
   "cell_type": "code",
   "execution_count": 29,
   "metadata": {},
   "outputs": [
    {
     "data": {
      "image/png": "[encoded data removed]",
      "text/plain": [
       "<Figure size 1152x360 with 2 Axes>"
      ]
     },
     "metadata": {
      "needs_background": "light"
     },
     "output_type": "display_data"
    }
   ],
   "source": [
    "### Plot top 10 categories with the highest/lowest average (regular) price ###\n",
    "\n",
    "# Define subplots\n",
    "fig, ax = plt.subplots(ncols = 2, figsize = (16, 5))\n",
    "plt.subplots_adjust(wspace = 0.35)\n",
    "plt.style.use('default')\n",
    "\n",
    "# Plot barcharts\n",
    "make_cat_barchart(cat_high_price, color = '#99e6ff', xlabel = \"Average (regular) price\", \n",
    "                title = \"The most expensive product categories\", pos = ax[1])\n",
    "\n",
    "make_cat_barchart(cat_low_price, color = '#ccff66', xlabel = \"Average (regular) price\", \n",
    "                title = \"The cheapest product categories\", pos = ax[0])"
   ]
  },
  {
   "cell_type": "markdown",
   "metadata": {},
   "source": [
    "**UPRAVIT!!** \n",
    "It seems like Rohlik is taking advantage of events such as birthdays or Christmas. Otherwise, for people that are usually shopping on Rohlik.cz, it is expensive to have a child or to drink too much alcohol. :)"
   ]
  },
  {
   "cell_type": "markdown",
   "metadata": {},
   "source": [
    "A nice finding is that the cheapest thing on Rohlik are rohliky. :)"
   ]
  },
  {
   "cell_type": "markdown",
   "metadata": {},
   "source": [
    "### B) Categories with the best product choice ###"
   ]
  },
  {
   "cell_type": "markdown",
   "metadata": {},
   "source": [
    "What are the top 10 categories with the best product choice in the analyzed time period (i.e., categories with the highest number of unique products)?"
   ]
  },
  {
   "cell_type": "code",
   "execution_count": 30,
   "metadata": {},
   "outputs": [],
   "source": [
    "# Obtain top 10 categories with the highest number of unique products\n",
    "cat_best_choice = data.groupby('Category').nunique().sort_values('Product name', ascending = False)[['Product name']].head(10)"
   ]
  },
  {
   "cell_type": "code",
   "execution_count": 31,
   "metadata": {
    "scrolled": true
   },
   "outputs": [
    {
     "data": {
      "image/png": "[encoded data removed]",
      "text/plain": [
       "<Figure size 400x200 with 1 Axes>"
      ]
     },
     "metadata": {},
     "output_type": "display_data"
    }
   ],
   "source": [
    "### Plot top 10 categories with the best product choice ###\n",
    "fig, ax = plt.subplots(ncols = 1, figsize = (4, 2))\n",
    "plt.style.use('default')\n",
    "\n",
    "make_cat_barchart(cat_best_choice, color = '#99e6ff', xlabel = \"Number of products\", \n",
    "                  title = \"Categories with the best product choice\", pos = ax)"
   ]
  },
  {
   "cell_type": "markdown",
   "metadata": {},
   "source": [
    "**ADD COMMENTS LATER**"
   ]
  },
  {
   "cell_type": "markdown",
   "metadata": {},
   "source": [
    "### C) Categories with the highest number of discounted products during the analyzed time period & categories with the best deals (highest average discount in %) ###"
   ]
  },
  {
   "cell_type": "code",
   "execution_count": 33,
   "metadata": {
    "scrolled": true
   },
   "outputs": [],
   "source": [
    "# Obtain top 10 categories with the highest number of discounts\n",
    "cat_most_of_discounts = data.groupby('Category').count().sort_values('Discount in %', ascending = False)[['Discount in %']].round(1).head(10)\n",
    "\n",
    "# Obtain top 10 categories with the highest average discount in %\n",
    "cat_best_discount = data.groupby('Category').mean().sort_values('Discount in %', ascending = False)[['Discount in %']].round(1).head(10)"
   ]
  },
  {
   "cell_type": "code",
   "execution_count": 34,
   "metadata": {
    "scrolled": true
   },
   "outputs": [
    {
     "data": {
      "image/png": "[encoded data removed]",
      "text/plain": [
       "<Figure size 1600x500 with 2 Axes>"
      ]
     },
     "metadata": {},
     "output_type": "display_data"
    }
   ],
   "source": [
    "### Plot top 10 categories with the highest number of discounts ###\n",
    "### Plot top 10 categories with the highest average discounts in % ###\n",
    "\n",
    "# Define subplots\n",
    "fig, ax = plt.subplots(ncols = 2, figsize = (16, 5))\n",
    "plt.subplots_adjust(wspace = 0.65)\n",
    "plt.style.use('default')\n",
    "\n",
    "# Plot barcharts\n",
    "make_cat_barchart(cat_most_of_discounts, color = '#ccff66', xlabel = \"Number of discounts\", \n",
    "                title = \"Categories with the highest number of discounts\", pos = ax[0])\n",
    "\n",
    "make_cat_barchart(cat_best_discount, color = '#99e6ff', xlabel = \"Average discount in %\", \n",
    "                title = \"Categories with the highest average discounts in %\", pos = ax[1])"
   ]
  },
  {
   "cell_type": "markdown",
   "metadata": {},
   "source": [
    "**ADD COMMENTS LATER**"
   ]
  },
  {
   "cell_type": "markdown",
   "metadata": {},
   "source": [
    "## 2. PRODUCT ANALYSIS ##"
   ]
  },
  {
   "cell_type": "markdown",
   "metadata": {},
   "source": [
    "## 3. PRICING ANALYSIS##"
   ]
  },
  {
   "cell_type": "code",
   "execution_count": null,
   "metadata": {},
   "outputs": [],
   "source": []
  }
 ],
 "metadata": {
  "kernelspec": {
   "display_name": "Python 3",
   "language": "python",
   "name": "python3"
  },
  "language_info": {
   "codemirror_mode": {
    "name": "ipython",
    "version": 3
   },
   "file_extension": ".py",
   "mimetype": "text/x-python",
   "name": "python",
   "nbconvert_exporter": "python",
   "pygments_lexer": "ipython3",
   "version": "3.7.1"
  }
 },
 "nbformat": 4,
 "nbformat_minor": 2
}
